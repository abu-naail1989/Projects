{
 "cells": [
  {
   "cell_type": "code",
   "execution_count": 47,
   "id": "c2250494",
   "metadata": {},
   "outputs": [],
   "source": [
    "from bs4 import BeautifulSoup\n",
    "import requests\n",
    "import pandas as pd\n"
   ]
  },
  {
   "cell_type": "code",
   "execution_count": 19,
   "id": "0742040c",
   "metadata": {},
   "outputs": [
    {
     "data": {
      "text/plain": [
       "'Python Tutorial: Zip Files – Creating and Extracting Zip Archives'"
      ]
     },
     "execution_count": 19,
     "metadata": {},
     "output_type": "execute_result"
    }
   ],
   "source": [
    "source= requests.get('https://coreyms.com').text\n",
    "\n",
    "soup= BeautifulSoup(source, 'lxml')\n",
    "article= soup.find('article')\n",
    "headline= article.h2.a.text\n",
    "headline"
   ]
  },
  {
   "cell_type": "code",
   "execution_count": 22,
   "id": "39b39a58",
   "metadata": {},
   "outputs": [
    {
     "data": {
      "text/plain": [
       "'In this video, we will be learning how to create and extract zip archives. We will start by using the zipfile module, and then we will see how to do this using the shutil module. We will learn how to do this with single files and directories, as well as learning how to use gzip as well. Let’s get started…'"
      ]
     },
     "execution_count": 22,
     "metadata": {},
     "output_type": "execute_result"
    }
   ],
   "source": [
    "summary= article.find('div', class_= 'entry-content').p.text\n",
    "summary"
   ]
  },
  {
   "cell_type": "code",
   "execution_count": 26,
   "id": "08da74c1",
   "metadata": {},
   "outputs": [
    {
     "data": {
      "text/plain": [
       "'https://www.youtube.com/embed/z0gguhEmWiY?version=3&rel=1&showsearch=0&showinfo=1&iv_load_policy=1&fs=1&hl=en-US&autohide=2&wmode=transparent'"
      ]
     },
     "execution_count": 26,
     "metadata": {},
     "output_type": "execute_result"
    }
   ],
   "source": [
    "vid_src= article.find('iframe', class_='youtube-player')['src']\n",
    "vid_src"
   ]
  },
  {
   "cell_type": "code",
   "execution_count": 33,
   "id": "a28bbf14",
   "metadata": {},
   "outputs": [
    {
     "data": {
      "text/plain": [
       "'z0gguhEmWiY?version=3&rel=1&showsearch=0&showinfo=1&iv_load_policy=1&fs=1&hl=en-US&autohide=2&wmode=transparent'"
      ]
     },
     "execution_count": 33,
     "metadata": {},
     "output_type": "execute_result"
    }
   ],
   "source": [
    "vid_id= vid_src.split('/')[4]\n",
    "vid_id"
   ]
  },
  {
   "cell_type": "code",
   "execution_count": 34,
   "id": "99db0181",
   "metadata": {},
   "outputs": [
    {
     "data": {
      "text/plain": [
       "'z0gguhEmWiY'"
      ]
     },
     "execution_count": 34,
     "metadata": {},
     "output_type": "execute_result"
    }
   ],
   "source": [
    "vid_id= vid_id.split('?')[0]\n",
    "vid_id"
   ]
  },
  {
   "cell_type": "code",
   "execution_count": 35,
   "id": "f528f28c",
   "metadata": {},
   "outputs": [
    {
     "data": {
      "text/plain": [
       "'http://youtube.com/watch?v=z0gguhEmWiY'"
      ]
     },
     "execution_count": 35,
     "metadata": {},
     "output_type": "execute_result"
    }
   ],
   "source": [
    "yt_link= f'http://youtube.com/watch?v={vid_id}'\n",
    "yt_link"
   ]
  },
  {
   "cell_type": "code",
   "execution_count": 41,
   "id": "b80b2e6c",
   "metadata": {},
   "outputs": [
    {
     "name": "stdout",
     "output_type": "stream",
     "text": [
      "Python Tutorial: Zip Files – Creating and Extracting Zip Archives\n",
      "In this video, we will be learning how to create and extract zip archives. We will start by using the zipfile module, and then we will see how to do this using the shutil module. We will learn how to do this with single files and directories, as well as learning how to use gzip as well. Let’s get started…\n",
      "http://youtube.com/watch?v=z0gguhEmWiY\n",
      "_______________________________________________________________________________________________________________\n",
      "Python Data Science Tutorial: Analyzing the 2019 Stack Overflow Developer Survey\n",
      "In this Python Programming video, we will be learning how to download and analyze real-world data from the 2019 Stack Overflow Developer Survey. This is terrific practice for anyone getting into the data science field. We will learn different ways to analyze this data and also some best practices. Let’s get started…\n",
      "http://youtube.com/watch?v=z0gguhEmWiY\n",
      "_______________________________________________________________________________________________________________\n",
      "Python Multiprocessing Tutorial: Run Code in Parallel Using the Multiprocessing Module\n",
      "In this Python Programming video, we will be learning how to run code in parallel using the multiprocessing module. We will also look at how to process multiple high-resolution images at the same time using a ProcessPoolExecutor from the concurrent.futures module. Let’s get started…\n",
      "http://youtube.com/watch?v=z0gguhEmWiY\n",
      "_______________________________________________________________________________________________________________\n",
      "Python Threading Tutorial: Run Code Concurrently Using the Threading Module\n",
      "In this Python Programming video, we will be learning how to run threads concurrently using the threading module. We will also look at how to download multiple high-resolution images online using a ThreadPoolExecutor from the concurrent.futures module. Let’s get started…\n",
      "http://youtube.com/watch?v=z0gguhEmWiY\n",
      "_______________________________________________________________________________________________________________\n",
      "Update (2019-09-03)\n",
      "Hey everyone. I wanted to give you an update on my videos. I will be releasing videos on threading and multiprocessing within the next week. Thanks so much for your patience. I currently have a temporary recording studio setup at my Airbnb that will allow me to record and edit the threading/multiprocessing videos. I am going to be moving into my new house in 10 days and once I have my recording studio setup then you can expect much faster video releases. I really appreciate how patient everyone has been while I go through this move, especially those of you who are contributing monthly through YouTube \n",
      "http://youtube.com/watch?v=z0gguhEmWiY\n",
      "_______________________________________________________________________________________________________________\n",
      "Python Quick Tip: The Difference Between “==” and “is” (Equality vs Identity)\n",
      "In this Python Programming Tutorial, we will be learning the difference between using “==” and the “is” keyword when doing comparisons. The difference between these is that “==” checks to see if values are equal, and the “is” keyword checks their identity, which means it’s going to check if the values are identical in terms of being the same object in memory. We’ll learn more in the video. Let’s get started…\n",
      "http://youtube.com/watch?v=z0gguhEmWiY\n",
      "_______________________________________________________________________________________________________________\n",
      "Python Tutorial: Calling External Commands Using the Subprocess Module\n",
      "In this Python Programming Tutorial, we will be learning how to run external commands using the subprocess module from the standard library. We will learn how to run commands, capture the output, handle errors, and also how to pipe output into other commands. Let’s get started…\n",
      "http://youtube.com/watch?v=z0gguhEmWiY\n",
      "_______________________________________________________________________________________________________________\n",
      "Visual Studio Code (Windows) – Setting up a Python Development Environment and Complete Overview\n",
      "In this Python Programming Tutorial, we will be learning how to set up a Python development environment in VSCode on Windows. VSCode is a very nice free editor for writing Python applications and many developers are now switching over to this editor. In this video, we will learn how to install VSCode, get the Python extension installed, how to change Python interpreters, create virtual environments, format/lint our code, how to use Git within VSCode, how to debug our programs, how unit testing works, and more. We have a lot to cover, so let’s go ahead and get started…\n",
      "http://youtube.com/watch?v=z0gguhEmWiY\n",
      "_______________________________________________________________________________________________________________\n",
      "Visual Studio Code (Mac) – Setting up a Python Development Environment and Complete Overview\n",
      "In this Python Programming Tutorial, we will be learning how to set up a Python development environment in VSCode on MacOS. VSCode is a very nice free editor for writing Python applications and many developers are now switching over to this editor. In this video, we will learn how to install VSCode, get the Python extension installed, how to change Python interpreters, create virtual environments, format/lint our code, how to use Git within VSCode, how to debug our programs, how unit testing works, and more. We have a lot to cover, so let’s go ahead and get started…\n",
      "http://youtube.com/watch?v=z0gguhEmWiY\n",
      "_______________________________________________________________________________________________________________\n",
      "Clarifying the Issues with Mutable Default Arguments\n",
      "In this Python Programming Tutorial, we will be clarifying the issues with mutable default arguments. We discussed this in my last video titled “5 Common Python Mistakes and How to Fix Them”, but I received many comments from people who were still confused. So we will be doing a deeper dive to explain exactly what is going on here. Let’s get started…\n",
      "http://youtube.com/watch?v=z0gguhEmWiY\n",
      "_______________________________________________________________________________________________________________\n"
     ]
    }
   ],
   "source": [
    "for article in soup.find_all('article'):\n",
    "    headline= article.h2.a.text\n",
    "    print(headline)\n",
    "    \n",
    "    summary= article.find('div', class_= 'entry-content').p.text\n",
    "    print(summary)\n",
    "    \n",
    "    vid_id= vid_src.split('/')[4]\n",
    "    vid_id= vid_id.split('?')[0]\n",
    "    yt_link= f'http://youtube.com/watch?v={vid_id}'\n",
    "    print(yt_link)\n",
    "    \n",
    "    print('_______________________________________________________________________________________________________________')\n",
    "    \n",
    "    "
   ]
  },
  {
   "cell_type": "code",
   "execution_count": 44,
   "id": "f4547309",
   "metadata": {},
   "outputs": [],
   "source": [
    "df_list= []\n",
    "for article in soup.find_all('article'):\n",
    "    headline= article.h2.a.text\n",
    "    \n",
    "    summary= article.find('div', class_= 'entry-content').p.text\n",
    "    \n",
    "    vid_id= vid_src.split('/')[4]\n",
    "    vid_id= vid_id.split('?')[0]\n",
    "    yt_link= f'http://youtube.com/watch?v={vid_id}'\n",
    "    \n",
    "    df_list.append({'headline': headline,\n",
    "                       'summary': summary,\n",
    "                       'video_link': yt_link})"
   ]
  },
  {
   "cell_type": "code",
   "execution_count": 49,
   "id": "81c94d1e",
   "metadata": {},
   "outputs": [
    {
     "data": {
      "text/html": [
       "<div>\n",
       "<style scoped>\n",
       "    .dataframe tbody tr th:only-of-type {\n",
       "        vertical-align: middle;\n",
       "    }\n",
       "\n",
       "    .dataframe tbody tr th {\n",
       "        vertical-align: top;\n",
       "    }\n",
       "\n",
       "    .dataframe thead th {\n",
       "        text-align: right;\n",
       "    }\n",
       "</style>\n",
       "<table border=\"1\" class=\"dataframe\">\n",
       "  <thead>\n",
       "    <tr style=\"text-align: right;\">\n",
       "      <th></th>\n",
       "      <th>headline</th>\n",
       "      <th>summary</th>\n",
       "      <th>video_link</th>\n",
       "    </tr>\n",
       "  </thead>\n",
       "  <tbody>\n",
       "    <tr>\n",
       "      <th>0</th>\n",
       "      <td>Python Tutorial: Zip Files – Creating and Extr...</td>\n",
       "      <td>In this video, we will be learning how to crea...</td>\n",
       "      <td>http://youtube.com/watch?v=z0gguhEmWiY</td>\n",
       "    </tr>\n",
       "    <tr>\n",
       "      <th>1</th>\n",
       "      <td>Python Data Science Tutorial: Analyzing the 20...</td>\n",
       "      <td>In this Python Programming video, we will be l...</td>\n",
       "      <td>http://youtube.com/watch?v=z0gguhEmWiY</td>\n",
       "    </tr>\n",
       "    <tr>\n",
       "      <th>2</th>\n",
       "      <td>Python Multiprocessing Tutorial: Run Code in P...</td>\n",
       "      <td>In this Python Programming video, we will be l...</td>\n",
       "      <td>http://youtube.com/watch?v=z0gguhEmWiY</td>\n",
       "    </tr>\n",
       "    <tr>\n",
       "      <th>3</th>\n",
       "      <td>Python Threading Tutorial: Run Code Concurrent...</td>\n",
       "      <td>In this Python Programming video, we will be l...</td>\n",
       "      <td>http://youtube.com/watch?v=z0gguhEmWiY</td>\n",
       "    </tr>\n",
       "    <tr>\n",
       "      <th>4</th>\n",
       "      <td>Update (2019-09-03)</td>\n",
       "      <td>Hey everyone. I wanted to give you an update o...</td>\n",
       "      <td>http://youtube.com/watch?v=z0gguhEmWiY</td>\n",
       "    </tr>\n",
       "    <tr>\n",
       "      <th>5</th>\n",
       "      <td>Python Quick Tip: The Difference Between “==” ...</td>\n",
       "      <td>In this Python Programming Tutorial, we will b...</td>\n",
       "      <td>http://youtube.com/watch?v=z0gguhEmWiY</td>\n",
       "    </tr>\n",
       "    <tr>\n",
       "      <th>6</th>\n",
       "      <td>Python Tutorial: Calling External Commands Usi...</td>\n",
       "      <td>In this Python Programming Tutorial, we will b...</td>\n",
       "      <td>http://youtube.com/watch?v=z0gguhEmWiY</td>\n",
       "    </tr>\n",
       "    <tr>\n",
       "      <th>7</th>\n",
       "      <td>Visual Studio Code (Windows) – Setting up a Py...</td>\n",
       "      <td>In this Python Programming Tutorial, we will b...</td>\n",
       "      <td>http://youtube.com/watch?v=z0gguhEmWiY</td>\n",
       "    </tr>\n",
       "    <tr>\n",
       "      <th>8</th>\n",
       "      <td>Visual Studio Code (Mac) – Setting up a Python...</td>\n",
       "      <td>In this Python Programming Tutorial, we will b...</td>\n",
       "      <td>http://youtube.com/watch?v=z0gguhEmWiY</td>\n",
       "    </tr>\n",
       "    <tr>\n",
       "      <th>9</th>\n",
       "      <td>Clarifying the Issues with Mutable Default Arg...</td>\n",
       "      <td>In this Python Programming Tutorial, we will b...</td>\n",
       "      <td>http://youtube.com/watch?v=z0gguhEmWiY</td>\n",
       "    </tr>\n",
       "  </tbody>\n",
       "</table>\n",
       "</div>"
      ],
      "text/plain": [
       "                                            headline  \\\n",
       "0  Python Tutorial: Zip Files – Creating and Extr...   \n",
       "1  Python Data Science Tutorial: Analyzing the 20...   \n",
       "2  Python Multiprocessing Tutorial: Run Code in P...   \n",
       "3  Python Threading Tutorial: Run Code Concurrent...   \n",
       "4                                Update (2019-09-03)   \n",
       "5  Python Quick Tip: The Difference Between “==” ...   \n",
       "6  Python Tutorial: Calling External Commands Usi...   \n",
       "7  Visual Studio Code (Windows) – Setting up a Py...   \n",
       "8  Visual Studio Code (Mac) – Setting up a Python...   \n",
       "9  Clarifying the Issues with Mutable Default Arg...   \n",
       "\n",
       "                                             summary  \\\n",
       "0  In this video, we will be learning how to crea...   \n",
       "1  In this Python Programming video, we will be l...   \n",
       "2  In this Python Programming video, we will be l...   \n",
       "3  In this Python Programming video, we will be l...   \n",
       "4  Hey everyone. I wanted to give you an update o...   \n",
       "5  In this Python Programming Tutorial, we will b...   \n",
       "6  In this Python Programming Tutorial, we will b...   \n",
       "7  In this Python Programming Tutorial, we will b...   \n",
       "8  In this Python Programming Tutorial, we will b...   \n",
       "9  In this Python Programming Tutorial, we will b...   \n",
       "\n",
       "                               video_link  \n",
       "0  http://youtube.com/watch?v=z0gguhEmWiY  \n",
       "1  http://youtube.com/watch?v=z0gguhEmWiY  \n",
       "2  http://youtube.com/watch?v=z0gguhEmWiY  \n",
       "3  http://youtube.com/watch?v=z0gguhEmWiY  \n",
       "4  http://youtube.com/watch?v=z0gguhEmWiY  \n",
       "5  http://youtube.com/watch?v=z0gguhEmWiY  \n",
       "6  http://youtube.com/watch?v=z0gguhEmWiY  \n",
       "7  http://youtube.com/watch?v=z0gguhEmWiY  \n",
       "8  http://youtube.com/watch?v=z0gguhEmWiY  \n",
       "9  http://youtube.com/watch?v=z0gguhEmWiY  "
      ]
     },
     "execution_count": 49,
     "metadata": {},
     "output_type": "execute_result"
    }
   ],
   "source": [
    "df= pd.DataFrame(df_list, columns= ['headline', 'summary','video_link' ])\n",
    "df"
   ]
  },
  {
   "cell_type": "code",
   "execution_count": null,
   "id": "5c9fd393",
   "metadata": {},
   "outputs": [],
   "source": []
  }
 ],
 "metadata": {
  "kernelspec": {
   "display_name": "Python 3",
   "language": "python",
   "name": "python3"
  },
  "language_info": {
   "codemirror_mode": {
    "name": "ipython",
    "version": 3
   },
   "file_extension": ".py",
   "mimetype": "text/x-python",
   "name": "python",
   "nbconvert_exporter": "python",
   "pygments_lexer": "ipython3",
   "version": "3.8.8"
  }
 },
 "nbformat": 4,
 "nbformat_minor": 5
}

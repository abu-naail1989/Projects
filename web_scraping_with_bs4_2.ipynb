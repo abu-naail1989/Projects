{
 "cells": [
  {
   "cell_type": "code",
   "execution_count": null,
   "id": "0cbd1ff0",
   "metadata": {},
   "outputs": [],
   "source": [
    "from bs4 import BeautifulSoup\n",
    "import requests\n",
    "import time"
   ]
  },
  {
   "cell_type": "code",
   "execution_count": null,
   "id": "8cdecac2",
   "metadata": {},
   "outputs": [],
   "source": [
    "print('Input Unfamiliar Skill(s)')\n",
    "unfamiliar_skill= input('>')\n",
    "print(f'filtering out {unfamiliar_skill}')\n",
    "\n",
    "def find_jobs():\n",
    "    source= requests.get('https://www.timesjobs.com/candidate/job-search.html?searchType=personalizedSearch&from=submit&txtKeywords=python&txtLocation=').text\n",
    "    soup= BeautifulSoup(source, 'lxml')\n",
    "    jobs= soup.find_all('li', class_='clearfix job-bx wht-shd-bx')\n",
    "\n",
    "    for index, job in enumerate(jobs):\n",
    "         published_date= job.find('span', class_='sim-posted').span.text\n",
    "         if 'few' in published_date:\n",
    "             company_name= job.find('h3', class_='joblist-comp-name').text.replace(' ', '')\n",
    "             skills = job.find('span', class_='srp-skills').text.replace(' ', '')\n",
    "             more_info= job.header.h2.a['href']\n",
    "             if unfamiliar_skill not in skills:\n",
    "                with open(f'posts/{index}.txt', 'w') as file:\n",
    "                    file.write(f'Company Name: {company_name.strip()}\\n')\n",
    "                    file.write(f'Required Skills: {skills.strip()}\\n')\n",
    "                    file.write(f'More Info: {more_info}')\n",
    "\n"
   ]
  },
  {
   "cell_type": "code",
   "execution_count": null,
   "id": "ee59177f",
   "metadata": {},
   "outputs": [],
   "source": [
    "if __name__ == '__main__':\n",
    "    while True:\n",
    "        find_jobs()\n",
    "        time.sleep(86400 )"
   ]
  },
  {
   "cell_type": "code",
   "execution_count": null,
   "id": "83c793a3",
   "metadata": {},
   "outputs": [],
   "source": []
  },
  {
   "cell_type": "code",
   "execution_count": null,
   "id": "5a6b94be",
   "metadata": {},
   "outputs": [],
   "source": []
  }
 ],
 "metadata": {
  "kernelspec": {
   "display_name": "Python 3",
   "language": "python",
   "name": "python3"
  },
  "language_info": {
   "codemirror_mode": {
    "name": "ipython",
    "version": 3
   },
   "file_extension": ".py",
   "mimetype": "text/x-python",
   "name": "python",
   "nbconvert_exporter": "python",
   "pygments_lexer": "ipython3",
   "version": "3.8.8"
  }
 },
 "nbformat": 4,
 "nbformat_minor": 5
}
